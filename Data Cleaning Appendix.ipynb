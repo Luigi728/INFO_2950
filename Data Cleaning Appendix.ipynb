{
 "cells": [
  {
   "cell_type": "markdown",
   "metadata": {},
   "source": [
    "# Project Phase 5: Forecasting Windspeeds at Different Locations of Hong Kong During Tropical Cyclone Impacts Through Analysis of Past Data"
   ]
  },
  {
   "cell_type": "markdown",
   "metadata": {},
   "source": [
    "## Data Cleaning Appendix:\n",
    "\n",
    "### Raw Data Sources:\n",
    "\n",
    "1. Hong Kong Observatory (HKO) Tropical Cyclone Reports, Tropical Cyclone Publications, Tropical Cyclone Warning Signals Database\n",
    "\n",
    "Within HKO's databases, I gathered the maximum 1-hour sustained windspeeds, its timing, and correpsonding wind direction at each station during each tropical cyclone; the timing, intensity, distance and bearing from Hong Kong (HK) at each tropical cyclone (TC)'s closest point of approach (CPA) or point of highest winds (PHW); and highest tropical cyclone signal issued by HKO for each TC.\n",
    "\n",
    "Links:\n",
    "https://www.hko.gov.hk/en/informtc/mangkhut18/tabwind.htm (and 76 others)\n",
    "\n",
    "https://www.hko.gov.hk/en/publica/tc/files/TC2006.pdf (and 19 others)\n",
    "\n",
    "https://www.hko.gov.hk/en/wxinfo/climat/warndb/warndb1.shtml\n",
    "\n",
    "2. Wikipedia Page of Strong Wind Signal No.3\n",
    "\n",
    "Using this Wikipedia page, I gathered the maximum 10-min sustained windspeeds at the 8 reference windspeed stations for 54 out of 105 of the TCs, specifically the ones that caused HKO to issue Strong Wind Signal No.3 or above between 2007-2020.\n",
    "\n",
    "Link: https://zh.wikipedia.org/wiki/三號強風信號 (Only available in Chinese Wikipedia)\n",
    "\n",
    "3. Hong Kong Automatic Weather Station Climate Observation Database\n",
    "\n",
    "Using this database which stores a lot of HKO's past data, I gathered the maximum 10-min sustained windspeeds at all stations for 3 most recent TCs that occured in 2020.\n",
    "\n",
    "Link: https://i-lens.hk/hkweather/history_chart.php?date=2020-08-19&chart_type=ALL_WIND\n",
    "\n",
    "4. Joint Typhoon Warning Center (JTWC) Northwest Pacific Ocean Best Track Data\n",
    "\n",
    "Using JTWC's database, I gathered the radius of maximum winds (R_Max) of each tropical cyclone during its closest point of approach (CPA) or point of highest winds (PHW).\n",
    "\n",
    "Link: https://www.metoc.navy.mil/jtwc/jtwc.html?western-pacific"
   ]
  },
  {
   "cell_type": "markdown",
   "metadata": {},
   "source": [
    "### Initial Raw Data Sets:\n",
    "\n",
    "1. 1-Hour Sustained Windspeeds Raw Data\n",
    "\n",
    "This data set includes 102 csv files, each containing the maximum 1-hour sustained windspeeds, its timing and corresponding wind directions at each station, with each csv file containing data for each tropical cyclone. Inside each csv file, the rows represent each windspeed station, while the columns represent each categories of data, which includes the maximum 1-hour sustained windspeeds, its timing and corresponding wind directions. These data are obtained either by copying the table from HKO Tropical Cyclone Reports for TCs after 2007, or by manually entering values found from HKO Tropical Cyclone Publications (a PDF that is unable to copy and paste) into the csv file for TCs before 2007. The file names are in the fromat of TC Code_TC Name.csv (e.g. 1822_Mangkhut, 1713_Hato, 1208_Vicente, etc).\n",
    "\n",
    "2. 10-Minute Sustained Windspeeds Raw Data at Some Selected Stations During Some Selected TCs\n",
    "\n",
    "This data set includes a csv file that contains the maximum 10-minute sustained windspeeds at 10 of the stations (out of a total of 32) during 54 of the tropical cyclones (out of a total of 105). The rows represent each tropical cyclone, while the columns represent each windspeed station. These data are obtained by firstly copying the table from the Wikipedia page of Strong Wind Signal No. 3, which contains 10-minute sustained windspeed data for the 8 reference windspeed stations -- Cheung Chau, HK Airport, Sai Kung, Kai Tak, Tsing Yi Shell Oil Depot, Lau Fa Shan, Sha Tin, Ta Kwu Ling -- for 54 of the TCs which caused HKO to issue Strong Wind Signal No.3 or above from 2007 onward. After that, the 10-minute sustained windspeeds data for King's Park and Waglan Island are obtained by manually entering values found from HKO Tropical Cyclone Publications into the csv file. The file name is called Ten_Min_Windspeed_Data.csv."
   ]
  },
  {
   "cell_type": "markdown",
   "metadata": {},
   "source": [
    "### Intermediate Data Sets:\n",
    "\n",
    "1. 1-Hour Sustianed Windspeeds Organized Data\n",
    "\n",
    "In the Python program One_Hour_Windspeed_Data.ipynb, which can be found in GitHub, I combined the 102 csv files containing 1-hour sustained windspeeds for each tropical cyclone into one single csv file. The data within each csv file are appended into a 2D list that combines all TCs' data, then outputted into a new single csv file. In the output file, which contains the maximum 1-hour sustained windspeeds at each station during each tropical cyclone, the rows represent each tropical cyclone, while the columns represent each windspeed station. The file name is called One_Hour_Windspeed_Data_Output.csv.\n",
    "\n",
    "2. Wind Direction Organized Data\n",
    "\n",
    "In the Python program One_Hour_Windspeed_Data.ipynb, which can be found in GitHub, I also counted the number of windspeed stations where each wind direction (a total of 16 wind directions: N, NNE, NE, ..., NW, NNW) occured during each tropical cyclone, then outputted this into a new single csv file. In the output file, which contains the station frequency of each wind direction during each tropical cyclone, the rows represent each tropical cyclone, while the columns represent the station frequency of eac wind direction's occurance. The file name is called Wind_Direction_Data_Output.csv."
   ]
  },
  {
   "cell_type": "markdown",
   "metadata": {},
   "source": [
    "### Final Data Sets:\n",
    "\n",
    "1. 10-Minute Sustained Windspeeds Organized Data\n",
    "\n",
    "In the Python program Ten_Min_Windspeed_Data.ipynb, which can be found in GitHub, I made use of the limited amount of 10-minute sustained windspeeeds data to convert the rest of the 1-hour sustained windspeeds into 10-minute sustained windspeeds. The 10-minute sustained windspeed is the standard that HKO officially uses for issuing typhoon signals, but for some reason HKO only publishes data of 1-hour sustained windspeeds within its TC reports and publications, leaving only a small part of 10-minute sustained windspeeds data available in other sources such as Wikipedia. I first found the average conversion factor for ten of the windspeed stations by dividing the 10-minute sustained windspeeds by the 1-hour sustained windspeeds for those ten stations with 10-minute sustained windspeeds data available, and averaging between all TCs at that windspeed station. I noticed a trend that windspeed stations with higher average windspeeds have a lower conversion factor, therefore I created a linear regression between those ten stations. To use this regression to predict the conversion factor of the rest of the stations, I calculated the windspeed ratio of each windspeed station to Cheung Chau (a station used as a standard of comparison), as a measure of the average windspeeed of each station with respect to Cheung Chau. I did not directly take an average, because a lot of windspeed stations have missing data, which causes serious biases to the average. Using this windspeed ratio of each windspeed station to Cheung Chau, I calculated the conversion factor of 1-hour sustained to 10-minute sustained windspeeds for every station, and thus use this conversion factor to convert all 1-hour sustained windspeeds for all 102 TCs and at all 32 windspeed stations into 10-minute sustained windspeeds. Lastly, I also added 3 additional recent TCs with all 10-minute sustained windspeeds data available at Hong Kong Automatic Weather Station Climate Observation Database, combining to 105 TCs. In the output file, which contains the maximum 10-minute sustained windspeeds at each station during each tropical cyclone, the rows represent each tropical cyclone, while the column represent each windspeed station. The file name is called Ten_Minute_Windspeed_Data_Output.csv.\n",
    "\n",
    "2. Windspeed Ratio of Each Windspeed Station To Average of Hong Kong Data\n",
    "\n",
    "In the Python program Windspeed_Data_Processing.ipynb, which can be found in GitHub, I used the 10-minute sustained windspeeds to find the windspeed ratio of each windspeed to the average of Hong Kong for typhoons of each quadrant. As explained above, directly taking an average of windspeeds between tropical cyclones for a windspeed station could cause serious biases to the average due to many windspeed stations having missing data. Therefore, a windspeed ratio to the average of Hong Kong can be used as an alternate measure of the average windspeed of each station with respect to the average of all the stations in Hong Kong. Since the windspeed at a station is heavily dependent on its geographical location and surroundings, differences in geographical surroundings such as the location of sea or hills around the station heavily affects the vulnerability of the station to different directions of winds, and the wind direction is dependent on the bearing of the typhoon from Hong Kong, therefore I firstly separated the typhoons into four groups according to the quadrant of their bearing from Hong Kong: eastern quadrant for NE, ENE, E, ESE bearings, southern quadrant for SE, SSE, S, SSW, western quadrant for SW, WSW, W, WNW, northern quadrant for NW, NNW, N, NNE. Then, I once again calculated the windspeed ratio of each windspeed station to Cheung Chau, but this time separated by quadrant. After that, I averaged all the windspeed ratios to find the average windspeed over the entire Hong Kong with respect to Cheung Chau, and thus converted all the windspeed ratios to be in respect with this average of Hong Kong. Lastly, I appended this into the output file, which contains the windspeed ratio to average of Hong Kong for each windspeed station, the rows represent the quadrant of the typhoon's bearing from Hong Kong, while the column represent each windspeed station. The file name is called Windspeed_Ratio_To_HK_Average_Output.csv.\n",
    "\n",
    "\n",
    "3. Different Parameters of the Tropical Cyclone at its Closest Point of Approach (CPA) or Point of Highest Winds (PHW) Data\n",
    "\n",
    "This data set includes a csv file that contains different paramters of the tropical cyclone at its closest point of approach (CPA) or point of highest winds (PHW), including highest typhoon signal issued, distance, bearing, intensity, radius of maximum winds, date and time. The default is to use the closest point of approach since it is much easier to obtain, and generally the highest winds are reached during the CPA, but in order to avoid the situation where the CPA doesn't represent the point of highest winds, if the CPA timing differs more than 6 hours from the average timing of highest windspeeds, or differs more than 3 hours for typhoons with a CPA distance below 100km, the data at CPA is replaced by the data at the point of highest winds. The highest TC signal issued data is obtained from HKO Tropical Cyclone Warning Signals Database, while the CPA/PHW distance, bearing and intensity is also obtained from HKO Tropical Cyclone Publications. For the date time, if the CPA is used, the data is again obtained from HKO Tropical Cyclone Publications, but if the PHW is used, the date time is obtained from the Python program One_Hour_Windspeed_Data.ipynb, where I calculated the average date time of the highest winds reached. While the radius of maximum winds is either obtained from JTWC Best Track Data, or manually measured using radar images for TCs within HKO's 256km radar range, by measuring the distance between the center of the TC and the most intense rainband near its center. In the file, the rows represent each tropical cyclone, while the columns represent each parameter. The file name is called Typhoon_CPA_Data.csv."
   ]
  }
 ],
 "metadata": {
  "kernelspec": {
   "display_name": "Python 3",
   "language": "python",
   "name": "python3"
  },
  "language_info": {
   "codemirror_mode": {
    "name": "ipython",
    "version": 3
   },
   "file_extension": ".py",
   "mimetype": "text/x-python",
   "name": "python",
   "nbconvert_exporter": "python",
   "pygments_lexer": "ipython3",
   "version": "3.7.9"
  }
 },
 "nbformat": 4,
 "nbformat_minor": 4
}
