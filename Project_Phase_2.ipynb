{
 "cells": [
  {
   "cell_type": "markdown",
   "metadata": {},
   "source": [
    "Name: Wing Him (Kinen) Kao\n",
    "Net ID: wk229"
   ]
  },
  {
   "cell_type": "markdown",
   "metadata": {},
   "source": [
    "Research Question: To what extent is it possible to accurately forecast windspeeds at different locations of Hong Kong during tropical cyclone impacts through analysis of previous data?"
   ]
  },
  {
   "cell_type": "markdown",
   "metadata": {},
   "source": [
    "Raw Data Sources:\n",
    "1. Hong Kong Observatory (HKO) Tropical Cyclone Reports\n",
    "    - Maximum 1-hour sustained windspeeds\n",
    "        - At all 32 stations during 76 of the tropical cyclones (TCs) between 2007-2020\n",
    "    - Timing of highest windspeeds reached\n",
    "        - At all 32 stations during 76 of the TCs between 2007-2020\n",
    "    - Wind directions at timing of highest windspeeds reached\n",
    "        - At all 32 stations during 76 of the TCs between 2007-2020\n",
    "    - Link: https://www.hko.gov.hk/en/informtc/mangkhut18/tabwind.htm\n",
    "        - And 76 other links with the same format\n",
    "2. Hong Kong Observatory Tropical Cyclone Publications\n",
    "    - Maximum 1-hour sustained windspeeds\n",
    "        - At all 32 stations during 26 of the TCs between 2001-2006\n",
    "    - Timing of highest windspeeds at 32 stations during 26\n",
    "        - At all 32 stations during 26 of the TCs between 2001-2006\n",
    "    - Wind directions at time of highest windspeeds at 32 stations\n",
    "        - At all 32 stations during 26 of the TCs between 2001-2006\n",
    "    - Maximum 10-minute sustained windspeeds\n",
    "        - At 3 of the stations: King's Park, Hong Kong International Airport, Waglan Island\n",
    "        - During all 102 TCs between 2001-2020\n",
    "    - Timing, intensity, distance and bearing from Hong Kong (HK) at closest point of approach (CPA)\n",
    "        - Of all 102 TCs between 2001-2020\n",
    "    - Longitude, latitude and intensity at 6-hour time intervals\n",
    "        - Of all 102 TCs between 2001-2020\n",
    "    - Link: https://www.hko.gov.hk/en/publica/tc/files/TC2006.pdf\n",
    "        - And 19 other links with the same format\n",
    "3. Hong Kong Observatory Tropical Cyclone Warning Signals Database\n",
    "    - Highest tropical cyclone signal issued by HKO\n",
    "        - During all 102 TCs between 2001-2020\n",
    "    - Link: https://www.hko.gov.hk/en/wxinfo/climat/warndb/warndb1.shtml\n",
    "        - Set start year month as 200101 and end year month as 202010\n",
    "4. Wikipedia Page of Strong Wind Signal No. 3\n",
    "    - Maximum 10-minute sustained windspeeds\n",
    "        - At 8 of the stations: \n",
    "            - Cheung Chau, HK Airport, Sai Kung, Kai Tak, Tsing Yi Shell Oil Depot, Lau Fa Shan, Sha Tin, Ta Kwu Ling\n",
    "        - During 54 of the TCs that caused HKO to issue Strong Wind Signal No.3 or above between 2007-2020\n",
    "    - Link: https://zh.wikipedia.org/wiki/三號強風信號\n",
    "5. Joint Typhoon Warning Center (JTWC) Northwest Pacific Ocean Best Track Data\n",
    "    - Radius of maximum winds (R_max) at 6-hour time intervals\n",
    "        - Of all 102 TCs between 2001-2020\n",
    "        - A variable used as a measure of the size of TCs\n",
    "    - Link: https://www.metoc.navy.mil/jtwc/jtwc.html?western-pacific\n",
    "        - Containing 19 folders for use\n",
    "        - 102 separate txt files for use for each TC"
   ]
  },
  {
   "cell_type": "markdown",
   "metadata": {},
   "source": [
    "Raw Data Sets:\n",
    "1. 102 csv files of max 1-hour sustained windspeeds, timing and wind directions at 32 stations during all 102 TCs\n",
    "    - 1 separate csv file for each of the 102 tropical cyclones\n",
    "    - Either copied table from HKO Tropical Cyclone Reports into csv file\n",
    "        - Table available in webpage format, instead of excel format\n",
    "        - Manual work needed to fix formatting and edit out irregularities in the csv file\n",
    "    - Or manually entered values found from HKO Tropical Cyclone Publications into csv file\n",
    "        - Unable to copy table from a PDF file\n",
    "        - Manual work needed to enter values from the PDF file into the csv file\n",
    "    - File Name: TC Code_TC Name.csv\n",
    "        - e.g. 1822_Mangkhut, 1713_Hato, 1208_Vicente, etc.\n",
    "2. 1 csv file of max 10-min sustained windspeeds at 10 stations during 54 TCs\n",
    "    - Firstly copied table from Wikipedia page of Strong Wind Signal No. 3 containing 8 refernce windspeed stations\n",
    "        - Cheung Chau, HK Airport, Sai Kung, Kai Tak, Tsing Yi Shell Oil Depot, Lau Fa Shan, Sha Tin, Ta Kwu Ling\n",
    "        - Only data of 54 of the TCs that caused Strong Wind Signal No.3 or above from 2007 onward available \n",
    "    - Then manually entered values of 2 other windspeed stations found from HKO Tropical Cyclone Publications\n",
    "        - King's Park, Waglan Island\n",
    "        - Hong Kong International Airport values already entered from the Wikipedia page\n",
    "        - Unable to copy table from a PDF file\n",
    "        - Manual work needed to enter values from the PDF file into the csv file\n",
    "    - File Name: Ten_Min_Windspeed_Data.csv\n",
    "3. 1 csv file of highest TC signal issued, timing, intensity, radius of max winds, distance and bearing at CPA\n",
    "    - Highest TC signal issued by HKO manually entered from HKO Tropical Cyclone Warning Signals Database\n",
    "        - Formatting within that webpage unsuitable for copying entire table\n",
    "        - Manual work needed to enter values from the table into the csv file\n",
    "    - Timing, intensity, distance and bearing from Hong Kong (HK) at closest point of approach (CPA)\n",
    "        - Unable to copy table from a PDF file\n",
    "        - Manual work needed to enter values from the PDF file into the csv file\n",
    "    - Timing, intensity, distance and bearing from Hong Kong (HK) at point of highest windspeeds in Hong Kong\n",
    "        - Replace data at CPA with data at point of highest winds if its timing significantly differs from CPA timing\n",
    "            - Significantly differs defined as more than 6 hours apart normally\n",
    "            - Or more than 3 hours apart if CPA distance is less than 100km from Hong Kong\n",
    "            - Eliminate scenario of CPA data not representative of conditions during TC's highest impact to Hong Kong\n",
    "            - Timing of highest windspeeds obtained by averaging all timings of highest windspeeds at each station\n",
    "            - Use another Python program to calculate distance and bearing from HK using longitude and latitude\n",
    "        - Unable to copy table from a PDF file\n",
    "        - Manual work needed to enter values from the PDF file into the csv file\n",
    "    - Radius of maximum winds at closest point of approach or point of highest windspeeds in Hong Kong\n",
    "        - Manual work needed to enter values from the 102 separate txt files into the csv file"
   ]
  },
  {
   "cell_type": "markdown",
   "metadata": {},
   "source": [
    "Data Cleaning Process Part 1:\n",
    "The first part of the data cleaning process is organizing the 1-hour sustained windspeeds data from 102 csv files into one single file containing all the 1-hour sustained windspeeds, and one single file containing all the wind directions. This part of the data cleaning process is done in the Jupyter file named One_Hour_Windspeed_Data.ipynb.\n",
    "\n",
    "Firstly, I open the csv file using pandas.read.csv, and transfer the data inside the dataframe, including windspeed station names, 1-hour sustained windspeeds, wind directions and timing of highest windspeed into lists. Then, by matching these windspeed station names with a predefined list of available windspeed stations, I append each windspeed data into a 2D list that contains 32 sub-lists of windspeeds of each windspeed station, each sub-list containing windspeed data of each tropical cyclone at a specific station. For windspeed stations that have missing data, I append numpy.nan into the list. After that, I find the average of all the timings of highest windspeeds at each station, in order to check whether this timing is close enough to the timing of the closest point of approach. If not, then I replace the intensity, distance and bearing from Hong Kong at CPA with those variables at the timing of highest windspeeds, finding out the distance and bearing from HK using another Python program called Distance_Bearing_Calculator.ipynb.\n",
    "\n",
    "Then, I repeat this process for all 102 csv files containing data for all 102 tropical cyclones, by copying and pasting the same three cells of code, replacing the names of input files and lists to the next tropical cyclone.\n",
    "\n",
    "After finishing this process for all 102 csv files, I output all these 1-hour sustained windspeeds data into a new csv file named One_Hour_Windspeed_Data_Output.csv, with the rows being each of the 102 tropical cyclones and each column being each of the 32 windspeed stations. I also count the number of times each wind direction occur for each tropical cyclone, then output the wind directions count data into another new csv file named Wind_Direction_Data_Output.csv, with the rows again being each of the 102 tropical cyclones and each column being each of the 16 wind directions."
   ]
  },
  {
   "cell_type": "markdown",
   "metadata": {},
   "source": [
    "Data Cleaning Process Part 2:\n",
    "The second part of the data cleaning process is converting the 1-hour sustained windspeeds data into 10-minute sustained windspeeds data. Even though most of the available data are expressed in 1-hour sustained windspeeds, which means finding the average windspeed over a 1 hour time period, but Hong Kong Observatory actually use 10-minute sustained windspeeds, which means finding the average windspeed over a 10 minute time period, for issuing tropical cyclone signal purposes. Therefore, I have to convert these 1-hour sustained windspeeds data into 10-minute sustained windspeeds data, outputting the 10-minute sustained windspeeds data into a new csv file. This part of the data cleaning process is done in the Jupyter file named Ten_Min_Windspeed_Data.ipynb.\n",
    "\n"
   ]
  },
  {
   "cell_type": "code",
   "execution_count": null,
   "metadata": {},
   "outputs": [],
   "source": [
    "import numpy\n",
    "import random\n",
    "from matplotlib import pyplot\n",
    "from matplotlib import colors\n",
    "import matplotlib.dates as mdates\n",
    "import matplotlib.ticker as mticker\n",
    "import datetime\n",
    "import cartopy.crs\n",
    "from cartopy.mpl.gridliner import LONGITUDE_FORMATTER, LATITUDE_FORMATTER\n",
    "from PIL import Image, ImageDraw\n",
    "import pandas"
   ]
  }
 ],
 "metadata": {
  "kernelspec": {
   "display_name": "Python 3",
   "language": "python",
   "name": "python3"
  },
  "language_info": {
   "codemirror_mode": {
    "name": "ipython",
    "version": 3
   },
   "file_extension": ".py",
   "mimetype": "text/x-python",
   "name": "python",
   "nbconvert_exporter": "python",
   "pygments_lexer": "ipython3",
   "version": "3.7.9"
  }
 },
 "nbformat": 4,
 "nbformat_minor": 4
}
