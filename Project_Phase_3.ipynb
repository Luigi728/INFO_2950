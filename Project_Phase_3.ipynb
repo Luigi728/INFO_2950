{
 "cells": [
  {
   "cell_type": "markdown",
   "metadata": {},
   "source": [
    "Name: Wing Him (Kinen) Kao\n",
    "Net ID: wk229"
   ]
  },
  {
   "cell_type": "markdown",
   "metadata": {},
   "source": [
    "Research Question: To what extent is it possible to accurately forecast windspeeds at different locations of Hong Kong during tropical cyclone impacts through analysis of previous data?"
   ]
  },
  {
   "cell_type": "markdown",
   "metadata": {},
   "source": [
    "1. Mutlivariable Linear Regression Model Predicting Windspeed at Hong Kong\n",
    "    - Create multivariable linear regression model using Pandas\n",
    "    - Independent Variables:\n",
    "        - Intensity of typhoon\n",
    "        - Distance from Hong Kong of typhoon\n",
    "        - Radius of maximum winds of typhoon\n",
    "    - Dependent Variable:\n",
    "        - Windspeed at a given location in Hong Kong\n",
    "    - Hypothesis 1: Will this model accurately forecast whether strong wind will be achieved at a given station?\n",
    "        - Strong Wind: >= 41km/h\n",
    "        - Important criteria for the Hong Kong Observatory for issuing Strong Wind Signal Number 3\n",
    "    - Hypothesis 2: Will this model accurately forecast whether gale wind will be achieved at a given station?\n",
    "        - Gale Wind: >= 63km/h\n",
    "        - Important criteria for the Hong Kong Observatory for issuing Strong Wind Signal Number 8"
   ]
  },
  {
   "cell_type": "markdown",
   "metadata": {},
   "source": [
    "2. Mutlivariable Linear Regression Model Predicting Windspeed at Hong Kong, With Consideration of Geography of Each Windspeed Station\n",
    "    - Create multivariable linear regression model using Pandas\n",
    "    - Independent Variables:\n",
    "        - Intensity of typhoon\n",
    "        - Distance from Hong Kong of typhoon\n",
    "        - Radius of maximum winds of typhoon\n",
    "    - Dependent Variable:\n",
    "        - Windspeed at a given location in Hong Kong modified with windspeed ratios to average of HK\n",
    "            - Windspeed ratios between the given location to average of the entire city previously calculated\n",
    "                - A measure of comparing windspeed stations with consideration of each of their own geographies\n",
    "    - Hypothesis 1: Will this model accurately forecast whether strong wind will be achieved at a given station?\n",
    "        - Strong Wind: >= 41km/h\n",
    "        - Important criteria for the Hong Kong Observatory for issuing Strong Wind Signal Number 3\n",
    "    - Hypothesis 2: Will this model accurately forecast whether gale wind will be achieved at a given station?\n",
    "        - Gale Wind: >= 63km/h\n",
    "        - Important criteria for the Hong Kong Observatory for issuing Strong Wind Signal Number 8"
   ]
  },
  {
   "cell_type": "markdown",
   "metadata": {},
   "source": [
    "3. Mutlivariable Linear Regression Model Predicting Windspeed at Hong Kong, With Consideration of Geography of Each Windspeed Station and Typhoon's Bearing Quadrant\n",
    "    - Create multivariable linear regression model using Pandas\n",
    "    - Independent Variables:\n",
    "        - Intensity of typhoon\n",
    "        - Distance from Hong Kong of typhoon\n",
    "        - Radius of maximum winds of typhoon\n",
    "    - Dependent Variable:\n",
    "        - Windspeed at a given location in Hong Kong modified with windspeed ratios to average of HK\n",
    "            - Windspeed ratios between the given location to average of the entire city previously calculated\n",
    "                - A measure of comparing windspeed stations with consideration of each of their own geographies\n",
    "            - Location quadrant separated into eastern, southern, western and northern quadrant of HK\n",
    "    - Control Variable:\n",
    "        - Typhoon bearing from Hong Kong separated into four quadrants\n",
    "    - Hypothesis 1: Will this model accurately forecast whether strong wind will be achieved at a given station?\n",
    "        - Strong Wind: >= 41km/h\n",
    "        - Important criteria for the Hong Kong Observatory for issuing Strong Wind Signal Number 3\n",
    "    - Hypothesis 2: Will this model accurately forecast whether gale wind will be achieved at a given station?\n",
    "        - Gale Wind: >= 63km/h\n",
    "        - Important criteria for the Hong Kong Observatory for issuing Strong Wind Signal Number 8"
   ]
  },
  {
   "cell_type": "markdown",
   "metadata": {},
   "source": [
    "4. Modified Rankine Vortex Model Predicting Windspeed at Hong Kong, With Consideration of Geography of Each Windspeed Station and Typhoon's Bearing Quadrant\n",
    "    - Modified Rankine Vortex (MRV) Model Formula:\n",
    "        - $V = k V_{max} (\\frac{R_{max}}{R})^B, R \\geq R_{max} ;$\n",
    "        - $V = k V_{max} (\\frac{R}{R_{max}})^B, R \\lt R_{max} $\n",
    "    - Independent Variables:\n",
    "        - $k$: Windspeed ratio between the given location to average of the entire city\n",
    "        - $V_{max}$: Intensity of the tropical cyclone\n",
    "        - $R$: Distance between the tropical cyclone and the given location\n",
    "        - $R_{max}$: Radius of maximum winds of the tropical cyclone\n",
    "        - $B$: A \"shape factor\" set as 0.5 suggested by Phadke et al. (2003)\n",
    "            - Investigations might involve adjusting this \"shape factor\" $B$\n",
    "    - Dependent Variable\n",
    "        - $V$: Windspeed at a given location in Hong Kong\n",
    "    - Control Variable:\n",
    "        - Typhoon bearing from Hong Kong separated into four quadrants\n",
    "    - Hypothesis 1: Will this model accurately forecast whether strong wind will be achieved at a given station?\n",
    "        - Strong Wind: >= 41km/h\n",
    "        - Important criteria for the Hong Kong Observatory for issuing Strong Wind Signal Number 3\n",
    "    - Hypothesis 2: Will this model accurately forecast whether gale wind will be achieved at a given station?\n",
    "        - Gale Wind: >= 63km/h\n",
    "        - Important criteria for the Hong Kong Observatory for issuing Strong Wind Signal Number 8"
   ]
  },
  {
   "cell_type": "markdown",
   "metadata": {},
   "source": [
    "5. SLOSH Wind Model Predicting Windspeed at Hong Kong, With Consideration of Geography of Each Windspeed Station and Typhoon's Bearing Quadrant\n",
    "    - Modified Rankine Vortex (MRV) Model Formula:\n",
    "        - $V = k V_{max} \\frac{2 R R_{max}}{(R^2 + R_{max}^2)}$\n",
    "    - Independent Variables:\n",
    "        - $k$: Windspeed ratio between the given location to average of the entire city\n",
    "        - $V_{max}$: Intensity of the tropical cyclone\n",
    "        - $R$: Distance between the tropical cyclone and the given location\n",
    "        - $R_{max}$: Radius of maximum winds of the tropical cyclone\n",
    "    - Dependent Variable\n",
    "        - $V$: Windspeed at a given location in Hong Kong\n",
    "    - Control Variable:\n",
    "        - Typhoon bearing from Hong Kong separated into four quadrants\n",
    "    - Hypothesis 1: Will this model accurately forecast whether strong wind will be achieved at a given station?\n",
    "        - Strong Wind: >= 41km/h\n",
    "        - Important criteria for the Hong Kong Observatory for issuing Strong Wind Signal Number 3\n",
    "    - Hypothesis 2: Will this model accurately forecast whether gale wind will be achieved at a given station?\n",
    "        - Gale Wind: >= 63km/h\n",
    "        - Important criteria for the Hong Kong Observatory for issuing Strong Wind Signal Number 8"
   ]
  },
  {
   "cell_type": "markdown",
   "metadata": {},
   "source": [
    "6. Logistic Regression Model Predicting Probability of Strong Wind and Gale Wind at Hong Kong\n",
    "    - Create logistic regression model using Pandas\n",
    "    - Independent Variables:\n",
    "        - Intensity of typhoon\n",
    "            - Separated into 5 categories according to HKO tropical cyclone categories:\n",
    "                - Tropical Depression (41-62km/h)\n",
    "                - Tropical Storm (63-87km/h)\n",
    "                - Severe Tropical Storm (88-117km/h)\n",
    "                - Typhoon (118-149km/h)\n",
    "                - Severe Typhoon/Super Typhoon (>=150km/h)\n",
    "        - Distance from Hong Kong of typhoon\n",
    "            - Separated into 4 categories:\n",
    "                - Direct Impact (0-100km)\n",
    "                - Near Impact (101-250km)\n",
    "                - Moderate Impact (251-400km)\n",
    "                - Distant Impact (401-800km)\n",
    "        - Radius of maximum winds of typhoon\n",
    "            - Separated into 4 categories:\n",
    "                - Small Size (0-30km)\n",
    "                - Medium Size (31-60km)\n",
    "                - Large Size (61-100km)\n",
    "                - Huge Size (>=101km)\n",
    "        - Bearing\n",
    "            - Separated into 4 quadrants: Eastern, Southern, Western, Northern\n",
    "        - Windspeed Station\n",
    "            - 32 different windspeed stations\n",
    "    - Dependent Variable:\n",
    "        - Probability of Strong Wind at a given location in Hong Kong\n",
    "        - Probability of Gale Wind at a given location in Hong Kong\n",
    "    - Hypothesis 1: Will this model accurately forecast whether strong wind will be achieved at a given station?\n",
    "        - Strong Wind: >= 41km/h\n",
    "        - Important criteria for the Hong Kong Observatory for issuing Strong Wind Signal Number 3\n",
    "    - Hypothesis 2: Will this model accurately forecast whether gale wind will be achieved at a given station?\n",
    "        - Gale Wind: >= 63km/h\n",
    "        - Important criteria for the Hong Kong Observatory for issuing Strong Wind Signal Number 8"
   ]
  },
  {
   "cell_type": "markdown",
   "metadata": {},
   "source": [
    "Questions For Reviewers:\n",
    "- Without having learned hypothesis testing yet, do the stuff I've done above provide the foundation for hypothesis testing?\n",
    "    - Should I be testing a hypothesis like whether it can accurate predict for a specific standard like Strong Wind or Gale Wind?\n",
    "    - Or should I be testing a hypothesis on whether it can accurately predict windspeed within a range like within 5km/h difference?\n",
    "    - Do I need a probability for the hypothesis for all the analyses? Or is it fine if only the logistic regression provides a proability?\n",
    "- The prompt says preregister \"at least two analyses\", but I can think of six that would be interesting, is this fine?\n",
    "    - Between Model 1-3, I want to show a progression of how I gradually improve the model by adding new components to it\n",
    "- I know you told me to use paragraph form instead of point form in the Phase 2 comments, but for this Phase 3, I still feel like using point form makes it easier to highlight each component of each analyses\n",
    "    - I feel like for a project with this complexity, using point form makes it easier to understand\n",
    "    - Piling everything into long paragraphs makes it seem boring and disorganized and hard to figure out the main points\n",
    "    - But I can switch to using paragraph form in the final draft\n",
    "- Also back to Phase 2, if you have read my GitHub repository, you know how much code there is...\n",
    "    - I didn't include the code in Phase 2 because there was way too much code and it was incredibly chaotic\n",
    "    - I will try to include the code in the final submission, but I hope the file size limit wouldn't be a problem...\n",
    "    - On that note, should we include the entire exploratory data analysis into the final submission?\n",
    "    - Or is it fine if we just include the useful parts where I actually do models with them and obtain hypothesis testing results?"
   ]
  },
  {
   "cell_type": "markdown",
   "metadata": {},
   "source": [
    "GitHub Repository: https://github.com/Luigi728/INFO_2950"
   ]
  },
  {
   "cell_type": "code",
   "execution_count": null,
   "metadata": {},
   "outputs": [],
   "source": []
  }
 ],
 "metadata": {
  "kernelspec": {
   "display_name": "Python 3",
   "language": "python",
   "name": "python3"
  },
  "language_info": {
   "codemirror_mode": {
    "name": "ipython",
    "version": 3
   },
   "file_extension": ".py",
   "mimetype": "text/x-python",
   "name": "python",
   "nbconvert_exporter": "python",
   "pygments_lexer": "ipython3",
   "version": "3.7.9"
  }
 },
 "nbformat": 4,
 "nbformat_minor": 4
}
