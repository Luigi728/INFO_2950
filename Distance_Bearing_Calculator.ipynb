{
 "cells": [
  {
   "cell_type": "code",
   "execution_count": 212,
   "metadata": {},
   "outputs": [],
   "source": [
    "import numpy\n",
    "import random\n",
    "from matplotlib import pyplot\n",
    "from matplotlib import colors\n",
    "import matplotlib.dates as mdates\n",
    "import matplotlib.ticker as mticker\n",
    "import datetime\n",
    "import cartopy.crs\n",
    "from cartopy.mpl.gridliner import LONGITUDE_FORMATTER, LATITUDE_FORMATTER\n",
    "from PIL import Image\n",
    "import pandas"
   ]
  },
  {
   "cell_type": "code",
   "execution_count": 213,
   "metadata": {},
   "outputs": [],
   "source": [
    "Hong_Kong = (22.3020,114.1738)\n",
    "Typhoon = (23.2,112.5)\n",
    "Earth_Radius = 6378"
   ]
  },
  {
   "cell_type": "code",
   "execution_count": 214,
   "metadata": {},
   "outputs": [
    {
     "name": "stdout",
     "output_type": "stream",
     "text": [
      "(0.3892433297797754, 0.40491638646268446)\n",
      "(1.9927087295135015, 1.9634954084936207)\n"
     ]
    }
   ],
   "source": [
    "Latitudes = (Hong_Kong[0] * numpy.pi / 180, Typhoon[0] * numpy.pi / 180)\n",
    "Longitudes = (Hong_Kong[1] * numpy.pi / 180, Typhoon[1] * numpy.pi / 180)\n",
    "print (Latitudes)\n",
    "print (Longitudes)"
   ]
  },
  {
   "cell_type": "code",
   "execution_count": 215,
   "metadata": {},
   "outputs": [
    {
     "name": "stdout",
     "output_type": "stream",
     "text": [
      "0.01567305668290908 -0.029213321019880834\n"
     ]
    }
   ],
   "source": [
    "Lat_Diff = (Latitudes[1] - Latitudes[0])\n",
    "Long_Diff = (Longitudes[1] - Longitudes[0])\n",
    "print (Lat_Diff, Long_Diff)"
   ]
  },
  {
   "cell_type": "code",
   "execution_count": 216,
   "metadata": {},
   "outputs": [
    {
     "name": "stdout",
     "output_type": "stream",
     "text": [
      "198.77663293282697\n"
     ]
    }
   ],
   "source": [
    "Distance = 2 * Earth_Radius * numpy.sqrt((numpy.sin(Lat_Diff/2))**2 + \\\n",
    "numpy.cos(Latitudes[0]) * numpy.cos(Latitudes[1]) * (numpy.sin(Long_Diff/2))**2)\n",
    "print (Distance)"
   ]
  },
  {
   "cell_type": "code",
   "execution_count": 217,
   "metadata": {},
   "outputs": [
    {
     "name": "stdout",
     "output_type": "stream",
     "text": [
      "-0.026847176701607217\n",
      "0.015821241093264493\n",
      "300.5111615322642\n"
     ]
    }
   ],
   "source": [
    "Bearing_y = numpy.sin(Long_Diff) * numpy.cos(Latitudes[1])\n",
    "Bearing_x = numpy.cos(Latitudes[0]) * numpy.sin(Latitudes[1]) - \\\n",
    "numpy.sin(Latitudes[0]) * numpy.cos(Latitudes[1]) * numpy.cos(Long_Diff)\n",
    "if Bearing_y > 0:\n",
    "    if Bearing_x > 0:\n",
    "        Bearing = (numpy.arctan(Bearing_y / Bearing_x) * 180 / numpy.pi)\n",
    "    elif Bearing_x < 0:\n",
    "        Bearing = (180 - numpy.arctan(-Bearing_y / Bearing_x) * 180 / numpy.pi)\n",
    "    elif Bearing_x == 0:\n",
    "        Bearing = 90 * 180 / numpy.pi\n",
    "if Bearing_y < 0:\n",
    "    if Bearing_x > 0:\n",
    "        Bearing = (numpy.arctan(Bearing_y / Bearing_x) * 180 / numpy.pi + 360)\n",
    "    elif Bearing_x < 0:\n",
    "        Bearing = (numpy.arctan(Bearing_y / Bearing_x) * 180 / numpy.pi + 180)\n",
    "    elif Bearing_x == 0:\n",
    "        Bearing = 270\n",
    "if Bearing_y == 0:\n",
    "    if Bearing_x > 0:\n",
    "        Bearing = 0 \n",
    "    elif Bearing_x < 0:\n",
    "        Bearing = 180\n",
    "    else:\n",
    "        Bearing = numpy.nan\n",
    "print (Bearing_y)\n",
    "print (Bearing_x)\n",
    "print (Bearing)"
   ]
  },
  {
   "cell_type": "code",
   "execution_count": 218,
   "metadata": {},
   "outputs": [
    {
     "name": "stdout",
     "output_type": "stream",
     "text": [
      "WNW\n"
     ]
    }
   ],
   "source": [
    "if Bearing > 360/32*1 and Bearing <= 360/32*3:\n",
    "    Bearing_ESWN = \"NNE\"\n",
    "if Bearing > 360/32*3 and Bearing <= 360/32*5:\n",
    "    Bearing_ESWN = \"NE\"\n",
    "if Bearing > 360/32*5 and Bearing <= 360/32*7:\n",
    "    Bearing_ESWN = \"ENE\"\n",
    "if Bearing > 360/32*7 and Bearing <= 360/32*9:\n",
    "    Bearing_ESWN = \"E\"\n",
    "if Bearing > 360/32*9 and Bearing <= 360/32*11:\n",
    "    Bearing_ESWN = \"ESE\"\n",
    "if Bearing > 360/32*11 and Bearing <= 360/32*13:\n",
    "    Bearing_ESWN = \"SE\"\n",
    "if Bearing > 360/32*13 and Bearing <= 360/32*15:\n",
    "    Bearing_ESWN = \"SSE\"\n",
    "if Bearing > 360/32*15 and Bearing <= 360/32*17:\n",
    "    Bearing_ESWN = \"S\"\n",
    "if Bearing > 360/32*17 and Bearing <= 360/32*19:\n",
    "    Bearing_ESWN = \"SSW\"\n",
    "if Bearing > 360/32*19 and Bearing <= 360/32*21:\n",
    "    Bearing_ESWN = \"SW\"\n",
    "if Bearing > 360/32*21 and Bearing <= 360/32*23:\n",
    "    Bearing_ESWN = \"WSW\"\n",
    "if Bearing > 360/32*23 and Bearing <= 360/32*25:\n",
    "    Bearing_ESWN = \"W\"\n",
    "if Bearing > 360/32*25 and Bearing <= 360/32*27:\n",
    "    Bearing_ESWN = \"WNW\"\n",
    "if Bearing > 360/32*27 and Bearing <= 360/32*29:\n",
    "    Bearing_ESWN = \"NW\"\n",
    "if Bearing > 360/32*29 and Bearing <= 360/32*31:\n",
    "    Bearing_ESWN = \"NNW\"\n",
    "if (Bearing > 360/32*31 and Bearing <= 360) or (Bearing >=0 and Bearing <= 360/32*1):\n",
    "    Bearing_ESWN = \"N\"\n",
    "print (Bearing_ESWN)"
   ]
  },
  {
   "cell_type": "code",
   "execution_count": null,
   "metadata": {},
   "outputs": [],
   "source": []
  },
  {
   "cell_type": "code",
   "execution_count": null,
   "metadata": {},
   "outputs": [],
   "source": []
  }
 ],
 "metadata": {
  "kernelspec": {
   "display_name": "Python 3",
   "language": "python",
   "name": "python3"
  },
  "language_info": {
   "codemirror_mode": {
    "name": "ipython",
    "version": 3
   },
   "file_extension": ".py",
   "mimetype": "text/x-python",
   "name": "python",
   "nbconvert_exporter": "python",
   "pygments_lexer": "ipython3",
   "version": "3.7.9"
  }
 },
 "nbformat": 4,
 "nbformat_minor": 4
}
